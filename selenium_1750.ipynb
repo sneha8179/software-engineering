{
  "nbformat": 4,
  "nbformat_minor": 0,
  "metadata": {
    "colab": {
      "provenance": [],
      "authorship_tag": "ABX9TyNT2tHavEW1JaxJoI5wVchU",
      "include_colab_link": true
    },
    "kernelspec": {
      "name": "python3",
      "display_name": "Python 3"
    },
    "language_info": {
      "name": "python"
    }
  },
  "cells": [
    {
      "cell_type": "markdown",
      "metadata": {
        "id": "view-in-github",
        "colab_type": "text"
      },
      "source": [
        "<a href=\"https://colab.research.google.com/github/sneha8179/software-engineering/blob/main/selenium_1750.ipynb\" target=\"_parent\"><img src=\"https://colab.research.google.com/assets/colab-badge.svg\" alt=\"Open In Colab\"/></a>"
      ]
    },
    {
      "cell_type": "code",
      "execution_count": 1,
      "metadata": {
        "colab": {
          "base_uri": "https://localhost:8080/"
        },
        "id": "lygReJcGpigv",
        "outputId": "d310ee73-8071-4828-ecd3-a814f3f8d1b0"
      },
      "outputs": [
        {
          "output_type": "stream",
          "name": "stdout",
          "text": [
            "\r0% [Working]\r            \rGet:1 https://cloud.r-project.org/bin/linux/ubuntu jammy-cran40/ InRelease [3,626 B]\n",
            "\r0% [Connecting to archive.ubuntu.com (91.189.91.83)] [Waiting for headers] [1 InRelease 3,626 B/3,62\r0% [Connecting to archive.ubuntu.com (91.189.91.83)] [Waiting for headers] [Waiting for headers] [Wa\r                                                                                                    \rHit:2 http://archive.ubuntu.com/ubuntu jammy InRelease\n",
            "Hit:3 https://developer.download.nvidia.com/compute/cuda/repos/ubuntu2204/x86_64  InRelease\n",
            "Get:4 http://archive.ubuntu.com/ubuntu jammy-updates InRelease [128 kB]\n",
            "Get:5 http://security.ubuntu.com/ubuntu jammy-security InRelease [129 kB]\n",
            "Get:6 https://r2u.stat.illinois.edu/ubuntu jammy InRelease [6,555 B]\n",
            "Get:7 http://archive.ubuntu.com/ubuntu jammy-backports InRelease [127 kB]\n",
            "Hit:8 https://ppa.launchpadcontent.net/deadsnakes/ppa/ubuntu jammy InRelease\n",
            "Hit:9 https://ppa.launchpadcontent.net/graphics-drivers/ppa/ubuntu jammy InRelease\n",
            "Get:10 https://r2u.stat.illinois.edu/ubuntu jammy/main all Packages [8,566 kB]\n",
            "Hit:11 https://ppa.launchpadcontent.net/ubuntugis/ppa/ubuntu jammy InRelease\n",
            "Get:12 http://archive.ubuntu.com/ubuntu jammy-updates/restricted amd64 Packages [3,614 kB]\n",
            "Get:13 http://archive.ubuntu.com/ubuntu jammy-updates/main amd64 Packages [2,830 kB]\n",
            "Get:14 http://archive.ubuntu.com/ubuntu jammy-updates/universe amd64 Packages [1,517 kB]\n",
            "Get:15 https://r2u.stat.illinois.edu/ubuntu jammy/main amd64 Packages [2,630 kB]\n",
            "Get:16 http://archive.ubuntu.com/ubuntu jammy-backports/universe amd64 Packages [33.8 kB]\n",
            "Get:17 http://archive.ubuntu.com/ubuntu jammy-backports/main amd64 Packages [81.4 kB]\n",
            "Get:18 http://security.ubuntu.com/ubuntu jammy-security/main amd64 Packages [2,517 kB]\n",
            "Get:19 http://security.ubuntu.com/ubuntu jammy-security/universe amd64 Packages [1,226 kB]\n",
            "Get:20 http://security.ubuntu.com/ubuntu jammy-security/restricted amd64 Packages [3,448 kB]\n",
            "Fetched 26.9 MB in 3s (8,563 kB/s)\n",
            "Reading package lists... Done\n",
            "W: Skipping acquire of configured file 'main/source/Sources' as repository 'https://r2u.stat.illinois.edu/ubuntu jammy InRelease' does not seem to provide it (sources.list entry misspelt?)\n",
            "Reading package lists... Done\n",
            "Building dependency tree... Done\n",
            "Reading state information... Done\n",
            "curl is already the newest version (7.81.0-1ubuntu1.20).\n",
            "unzip is already the newest version (6.0-26ubuntu3.2).\n",
            "wget is already the newest version (1.21.2-2ubuntu1.1).\n",
            "0 upgraded, 0 newly installed, 0 to remove and 50 not upgraded.\n"
          ]
        }
      ],
      "source": [
        "# Install dependencies\n",
        "!apt-get update\n",
        "!apt-get install -y wget curl unzip\n"
      ]
    },
    {
      "cell_type": "code",
      "source": [
        "!wget https://dl.google.com/linux/direct/google-chrome-stable_current_amd64.deb\n",
        "!dpkg -i google-chrome-stable_current_amd64.deb\n",
        "!apt-get install -f  # To fix missing dependencies"
      ],
      "metadata": {
        "colab": {
          "base_uri": "https://localhost:8080/"
        },
        "id": "8HF8yfHfpw6Z",
        "outputId": "3b8160a9-56a5-43a8-abbf-706ea1a90de5"
      },
      "execution_count": 2,
      "outputs": [
        {
          "output_type": "stream",
          "name": "stdout",
          "text": [
            "--2024-12-25 16:29:12--  https://dl.google.com/linux/direct/google-chrome-stable_current_amd64.deb\n",
            "Resolving dl.google.com (dl.google.com)... 173.194.194.136, 173.194.194.91, 173.194.194.93, ...\n",
            "Connecting to dl.google.com (dl.google.com)|173.194.194.136|:443... connected.\n",
            "HTTP request sent, awaiting response... 200 OK\n",
            "Length: 112770956 (108M) [application/x-debian-package]\n",
            "Saving to: ‘google-chrome-stable_current_amd64.deb’\n",
            "\n",
            "google-chrome-stabl 100%[===================>] 107.55M   355MB/s    in 0.3s    \n",
            "\n",
            "2024-12-25 16:29:13 (355 MB/s) - ‘google-chrome-stable_current_amd64.deb’ saved [112770956/112770956]\n",
            "\n",
            "Selecting previously unselected package google-chrome-stable.\n",
            "(Reading database ... 123634 files and directories currently installed.)\n",
            "Preparing to unpack google-chrome-stable_current_amd64.deb ...\n",
            "Unpacking google-chrome-stable (131.0.6778.204-1) ...\n",
            "\u001b[1mdpkg:\u001b[0m dependency problems prevent configuration of google-chrome-stable:\n",
            " google-chrome-stable depends on libvulkan1; however:\n",
            "  Package libvulkan1 is not installed.\n",
            "\n",
            "\u001b[1mdpkg:\u001b[0m error processing package google-chrome-stable (--install):\n",
            " dependency problems - leaving unconfigured\n",
            "Processing triggers for man-db (2.10.2-1) ...\n",
            "Errors were encountered while processing:\n",
            " google-chrome-stable\n",
            "Reading package lists... Done\n",
            "Building dependency tree... Done\n",
            "Reading state information... Done\n",
            "Correcting dependencies... Done\n",
            "The following additional packages will be installed:\n",
            "  libvulkan1 mesa-vulkan-drivers\n",
            "The following NEW packages will be installed:\n",
            "  libvulkan1 mesa-vulkan-drivers\n",
            "0 upgraded, 2 newly installed, 0 to remove and 50 not upgraded.\n",
            "1 not fully installed or removed.\n",
            "Need to get 10.9 MB of archives.\n",
            "After this operation, 51.3 MB of additional disk space will be used.\n",
            "Get:1 http://archive.ubuntu.com/ubuntu jammy/main amd64 libvulkan1 amd64 1.3.204.1-2 [128 kB]\n",
            "Get:2 http://archive.ubuntu.com/ubuntu jammy-updates/main amd64 mesa-vulkan-drivers amd64 23.2.1-1ubuntu3.1~22.04.3 [10.7 MB]\n",
            "Fetched 10.9 MB in 1s (20.4 MB/s)\n",
            "Selecting previously unselected package libvulkan1:amd64.\n",
            "(Reading database ... 123751 files and directories currently installed.)\n",
            "Preparing to unpack .../libvulkan1_1.3.204.1-2_amd64.deb ...\n",
            "Unpacking libvulkan1:amd64 (1.3.204.1-2) ...\n",
            "Selecting previously unselected package mesa-vulkan-drivers:amd64.\n",
            "Preparing to unpack .../mesa-vulkan-drivers_23.2.1-1ubuntu3.1~22.04.3_amd64.deb ...\n",
            "Unpacking mesa-vulkan-drivers:amd64 (23.2.1-1ubuntu3.1~22.04.3) ...\n",
            "Setting up libvulkan1:amd64 (1.3.204.1-2) ...\n",
            "Setting up mesa-vulkan-drivers:amd64 (23.2.1-1ubuntu3.1~22.04.3) ...\n",
            "Setting up google-chrome-stable (131.0.6778.204-1) ...\n",
            "update-alternatives: using /usr/bin/google-chrome-stable to provide /usr/bin/x-www-browser (x-www-browser) in auto mode\n",
            "update-alternatives: using /usr/bin/google-chrome-stable to provide /usr/bin/gnome-www-browser (gnome-www-browser) in auto mode\n",
            "update-alternatives: using /usr/bin/google-chrome-stable to provide /usr/bin/google-chrome (google-chrome) in auto mode\n",
            "Processing triggers for libc-bin (2.35-0ubuntu3.4) ...\n",
            "/sbin/ldconfig.real: /usr/local/lib/libtcm_debug.so.1 is not a symbolic link\n",
            "\n",
            "/sbin/ldconfig.real: /usr/local/lib/libur_loader.so.0 is not a symbolic link\n",
            "\n",
            "/sbin/ldconfig.real: /usr/local/lib/libhwloc.so.15 is not a symbolic link\n",
            "\n",
            "/sbin/ldconfig.real: /usr/local/lib/libumf.so.0 is not a symbolic link\n",
            "\n",
            "/sbin/ldconfig.real: /usr/local/lib/libtbbmalloc_proxy.so.2 is not a symbolic link\n",
            "\n",
            "/sbin/ldconfig.real: /usr/local/lib/libtbbbind_2_0.so.3 is not a symbolic link\n",
            "\n",
            "/sbin/ldconfig.real: /usr/local/lib/libtbbbind.so.3 is not a symbolic link\n",
            "\n",
            "/sbin/ldconfig.real: /usr/local/lib/libtbbmalloc.so.2 is not a symbolic link\n",
            "\n",
            "/sbin/ldconfig.real: /usr/local/lib/libtbb.so.12 is not a symbolic link\n",
            "\n",
            "/sbin/ldconfig.real: /usr/local/lib/libtbbbind_2_5.so.3 is not a symbolic link\n",
            "\n",
            "/sbin/ldconfig.real: /usr/local/lib/libtcm.so.1 is not a symbolic link\n",
            "\n",
            "/sbin/ldconfig.real: /usr/local/lib/libur_adapter_level_zero.so.0 is not a symbolic link\n",
            "\n",
            "/sbin/ldconfig.real: /usr/local/lib/libur_adapter_opencl.so.0 is not a symbolic link\n",
            "\n"
          ]
        }
      ]
    },
    {
      "cell_type": "code",
      "source": [
        "!google-chrome-stable --version"
      ],
      "metadata": {
        "colab": {
          "base_uri": "https://localhost:8080/"
        },
        "id": "db96ig_Opz3c",
        "outputId": "ee95f98b-03d8-435a-8804-671525039c84"
      },
      "execution_count": 3,
      "outputs": [
        {
          "output_type": "stream",
          "name": "stdout",
          "text": [
            "Google Chrome 131.0.6778.204 \n"
          ]
        }
      ]
    },
    {
      "cell_type": "code",
      "source": [
        "import subprocess\n",
        "\n",
        "# Run command to get Chrome version\n",
        "chrome_version_output = subprocess.check_output([\"google-chrome-stable\", \"--version\"]).decode(\"utf-8\")\n",
        "# Extract version using regex\n",
        "chrome_version = chrome_version_output.split()[2].split('.')[0]\n",
        "\n",
        "print(f\"Extracted Chrome Version: {chrome_version}\")\n"
      ],
      "metadata": {
        "colab": {
          "base_uri": "https://localhost:8080/"
        },
        "id": "ndtRX9jTp1Ez",
        "outputId": "95ae5653-39a1-4e85-e240-f16ae95ea49a"
      },
      "execution_count": 4,
      "outputs": [
        {
          "output_type": "stream",
          "name": "stdout",
          "text": [
            "Extracted Chrome Version: 131\n"
          ]
        }
      ]
    },
    {
      "cell_type": "code",
      "source": [
        "  !wget https://storage.googleapis.com/chrome-for-testing-public/131.0.6778.204/linux64/chromedriver-linux64.zip\n"
      ],
      "metadata": {
        "colab": {
          "base_uri": "https://localhost:8080/"
        },
        "id": "asq3zkZop57l",
        "outputId": "6c30a24a-aa0d-4dc6-d341-eafceab791a6"
      },
      "execution_count": 5,
      "outputs": [
        {
          "output_type": "stream",
          "name": "stdout",
          "text": [
            "--2024-12-25 16:29:56--  https://storage.googleapis.com/chrome-for-testing-public/131.0.6778.204/linux64/chromedriver-linux64.zip\n",
            "Resolving storage.googleapis.com (storage.googleapis.com)... 209.85.145.207, 142.250.125.207, 209.85.200.207, ...\n",
            "Connecting to storage.googleapis.com (storage.googleapis.com)|209.85.145.207|:443... connected.\n",
            "HTTP request sent, awaiting response... 200 OK\n",
            "Length: 9945236 (9.5M) [application/zip]\n",
            "Saving to: ‘chromedriver-linux64.zip’\n",
            "\n",
            "\rchromedriver-linux6   0%[                    ]       0  --.-KB/s               \rchromedriver-linux6 100%[===================>]   9.48M  --.-KB/s    in 0.04s   \n",
            "\n",
            "2024-12-25 16:29:57 (253 MB/s) - ‘chromedriver-linux64.zip’ saved [9945236/9945236]\n",
            "\n"
          ]
        }
      ]
    },
    {
      "cell_type": "code",
      "source": [
        "!unzip chromedriver-linux64.zip"
      ],
      "metadata": {
        "colab": {
          "base_uri": "https://localhost:8080/"
        },
        "id": "vMoQ4EJsp9Hh",
        "outputId": "6a46120a-1288-4eee-9e27-560bc7ac5e16"
      },
      "execution_count": 6,
      "outputs": [
        {
          "output_type": "stream",
          "name": "stdout",
          "text": [
            "Archive:  chromedriver-linux64.zip\n",
            "  inflating: chromedriver-linux64/LICENSE.chromedriver  \n",
            "  inflating: chromedriver-linux64/THIRD_PARTY_NOTICES.chromedriver  \n",
            "  inflating: chromedriver-linux64/chromedriver  \n"
          ]
        }
      ]
    },
    {
      "cell_type": "code",
      "source": [
        "!chmod +x /content/chromedriver-linux64/chromedriver"
      ],
      "metadata": {
        "id": "sJAfw0WaqAwg"
      },
      "execution_count": 7,
      "outputs": []
    },
    {
      "cell_type": "code",
      "source": [
        " !pip install selenium"
      ],
      "metadata": {
        "colab": {
          "base_uri": "https://localhost:8080/"
        },
        "id": "4jFvPV5NqCNW",
        "outputId": "bf12b46d-690a-4e9e-9364-885db0509080"
      },
      "execution_count": 8,
      "outputs": [
        {
          "output_type": "stream",
          "name": "stdout",
          "text": [
            "Collecting selenium\n",
            "  Downloading selenium-4.27.1-py3-none-any.whl.metadata (7.1 kB)\n",
            "Requirement already satisfied: urllib3<3,>=1.26 in /usr/local/lib/python3.10/dist-packages (from urllib3[socks]<3,>=1.26->selenium) (2.2.3)\n",
            "Collecting trio~=0.17 (from selenium)\n",
            "  Downloading trio-0.27.0-py3-none-any.whl.metadata (8.6 kB)\n",
            "Collecting trio-websocket~=0.9 (from selenium)\n",
            "  Downloading trio_websocket-0.11.1-py3-none-any.whl.metadata (4.7 kB)\n",
            "Requirement already satisfied: certifi>=2021.10.8 in /usr/local/lib/python3.10/dist-packages (from selenium) (2024.12.14)\n",
            "Requirement already satisfied: typing_extensions~=4.9 in /usr/local/lib/python3.10/dist-packages (from selenium) (4.12.2)\n",
            "Requirement already satisfied: websocket-client~=1.8 in /usr/local/lib/python3.10/dist-packages (from selenium) (1.8.0)\n",
            "Requirement already satisfied: attrs>=23.2.0 in /usr/local/lib/python3.10/dist-packages (from trio~=0.17->selenium) (24.3.0)\n",
            "Collecting sortedcontainers (from trio~=0.17->selenium)\n",
            "  Downloading sortedcontainers-2.4.0-py2.py3-none-any.whl.metadata (10 kB)\n",
            "Requirement already satisfied: idna in /usr/local/lib/python3.10/dist-packages (from trio~=0.17->selenium) (3.10)\n",
            "Collecting outcome (from trio~=0.17->selenium)\n",
            "  Downloading outcome-1.3.0.post0-py2.py3-none-any.whl.metadata (2.6 kB)\n",
            "Requirement already satisfied: sniffio>=1.3.0 in /usr/local/lib/python3.10/dist-packages (from trio~=0.17->selenium) (1.3.1)\n",
            "Requirement already satisfied: exceptiongroup in /usr/local/lib/python3.10/dist-packages (from trio~=0.17->selenium) (1.2.2)\n",
            "Collecting wsproto>=0.14 (from trio-websocket~=0.9->selenium)\n",
            "  Downloading wsproto-1.2.0-py3-none-any.whl.metadata (5.6 kB)\n",
            "Requirement already satisfied: pysocks!=1.5.7,<2.0,>=1.5.6 in /usr/local/lib/python3.10/dist-packages (from urllib3[socks]<3,>=1.26->selenium) (1.7.1)\n",
            "Requirement already satisfied: h11<1,>=0.9.0 in /usr/local/lib/python3.10/dist-packages (from wsproto>=0.14->trio-websocket~=0.9->selenium) (0.14.0)\n",
            "Downloading selenium-4.27.1-py3-none-any.whl (9.7 MB)\n",
            "\u001b[2K   \u001b[90m━━━━━━━━━━━━━━━━━━━━━━━━━━━━━━━━━━━━━━━━\u001b[0m \u001b[32m9.7/9.7 MB\u001b[0m \u001b[31m56.4 MB/s\u001b[0m eta \u001b[36m0:00:00\u001b[0m\n",
            "\u001b[?25hDownloading trio-0.27.0-py3-none-any.whl (481 kB)\n",
            "\u001b[2K   \u001b[90m━━━━━━━━━━━━━━━━━━━━━━━━━━━━━━━━━━━━━━━━\u001b[0m \u001b[32m481.7/481.7 kB\u001b[0m \u001b[31m28.4 MB/s\u001b[0m eta \u001b[36m0:00:00\u001b[0m\n",
            "\u001b[?25hDownloading trio_websocket-0.11.1-py3-none-any.whl (17 kB)\n",
            "Downloading wsproto-1.2.0-py3-none-any.whl (24 kB)\n",
            "Downloading outcome-1.3.0.post0-py2.py3-none-any.whl (10 kB)\n",
            "Downloading sortedcontainers-2.4.0-py2.py3-none-any.whl (29 kB)\n",
            "Installing collected packages: sortedcontainers, wsproto, outcome, trio, trio-websocket, selenium\n",
            "Successfully installed outcome-1.3.0.post0 selenium-4.27.1 sortedcontainers-2.4.0 trio-0.27.0 trio-websocket-0.11.1 wsproto-1.2.0\n"
          ]
        }
      ]
    },
    {
      "cell_type": "code",
      "source": [
        "from selenium import webdriver\n",
        "from selenium.webdriver.chrome.service import Service\n",
        "from selenium.webdriver.chrome.options import Options\n",
        "\n",
        "# Set up Chrome options for headless mode\n",
        "chrome_options = Options()\n",
        "chrome_options.add_argument(\"--headless\")  # Run Chrome in headless mode (without UI)\n",
        "chrome_options.add_argument(\"--no-sandbox\")  # Disable sandboxing (required in Colab)\n",
        "chrome_options.add_argument(\"--disable-dev-shm-usage\")  # Disable /dev/shm usage (avoids crash)\n",
        "chrome_options.add_argument(\"--remote-debugging-port=9222\")  # Avoid port conflicts\n",
        "\n",
        "# Path to ChromeDriver (it is now in /usr/local/bin/)\n",
        "chrome_driver_path = '/content/chromedriver-linux64/chromedriver'\n",
        "\n",
        "# Set up the Service object for ChromeDriver\n",
        "service = Service(chrome_driver_path)\n",
        "\n",
        "# Initialize the WebDriver with the Service object and options\n",
        "driver = webdriver.Chrome(service=service, options=chrome_options)\n",
        "\n",
        "# Test by navigating to a URL (Google in this case)\n",
        "driver.get(\"https://www.youtube.com/watch?v=09tCNsSRE3U\")\n",
        "\n",
        "# Print the title of the page to check if it worked\n",
        "print(driver.title)  # Should print 'Google'\n",
        "\n",
        "# Close the driver after testing\n",
        "driver.quit()"
      ],
      "metadata": {
        "colab": {
          "base_uri": "https://localhost:8080/"
        },
        "id": "NuziXvfFqF4Z",
        "outputId": "1c8ecd11-b56c-44c0-af92-36ef699b36a4"
      },
      "execution_count": 9,
      "outputs": [
        {
          "output_type": "stream",
          "name": "stdout",
          "text": [
            "Dhop - Lyrical | Game Changer | Ram Charan, Kiara Advani | Thaman S | Shankar - YouTube\n"
          ]
        }
      ]
    },
    {
      "cell_type": "code",
      "source": [
        "import time\n",
        "import numpy as np\n",
        "import matplotlib.pyplot as plt\n",
        "from selenium import webdriver\n",
        "from selenium.webdriver.chrome.service import Service\n",
        "from selenium.webdriver.chrome.options import Options\n",
        "from selenium.webdriver.common.by import By\n",
        "from selenium.webdriver.common.keys import Keys\n",
        "from selenium.webdriver.support.ui import WebDriverWait\n",
        "from selenium.webdriver.support import expected_conditions as EC\n",
        "\n",
        "# Set up Chrome options for headless mode (no GUI)\n",
        "chrome_options = Options()\n",
        "chrome_options.add_argument(\"--headless\")  # Run Chrome in headless mode (without UI)\n",
        "chrome_options.add_argument(\"--no-sandbox\")  # Disable sandboxing (required in Colab)\n",
        "chrome_options.add_argument(\"--disable-dev-shm-usage\")  # Disable /dev/shm usage (avoids crash)\n",
        "\n",
        "# Path to ChromeDriver (adjust this based on your system)\n",
        "chrome_driver_path = '/content/chromedriver-linux64/chromedriver'\n",
        "\n",
        "# Set up the Service object for ChromeDriver\n",
        "service = Service(chrome_driver_path)\n",
        "\n",
        "# Initialize the WebDriver with the Service object and options\n",
        "driver = webdriver.Chrome(service=service, options=chrome_options)\n",
        "\n",
        "# Ensure the file path is correct for the local HTML file (using file:// format)\n",
        "file_path = 'file:///content/WEATHER.HTML'  # Update the file path accordingly\n",
        "driver.get(file_path)\n",
        "\n",
        "# Wait for the elements to be visible (adjust time as needed)\n",
        "wait = WebDriverWait(driver, 10)  # Wait up to 10 seconds\n",
        "\n",
        "try:\n",
        "    # Find input elements (wait for their visibility)\n",
        "    a_input = wait.until(EC.presence_of_element_located((By.ID, \"a\")))  # Adjust the ID as per your HTML\n",
        "    b_input = wait.until(EC.presence_of_element_located((By.ID, \"b\")))\n",
        "    c_input = wait.until(EC.presence_of_element_located((By.ID, \"c\")))\n",
        "    t_input = wait.until(EC.presence_of_element_located((By.ID, \"t\")))\n",
        "\n",
        "    calculate_button = wait.until(EC.presence_of_element_located((By.XPATH, \"//button[@type='button']\")))\n",
        "\n",
        "    # Send test data\n",
        "    a_input.send_keys(\"1\")\n",
        "    b_input.send_keys(\"2\")\n",
        "    c_input.send_keys(\"3\")\n",
        "    t_input.send_keys(\"4\")\n",
        "\n",
        "    # Trigger calculation\n",
        "    calculate_button.click()\n",
        "\n",
        "    # Wait for the output to appear\n",
        "    time.sleep(2)\n",
        "\n",
        "    # Retrieve the result\n",
        "    output = driver.find_element(By.ID, \"output\").text\n",
        "    print(output)  # Should display: Temperature: 14.0°C\n",
        "\n",
        "except Exception as e:\n",
        "    print(\"Error:\", e)\n",
        "\n",
        "# Close the driver after testing\n",
        "driver.quit()"
      ],
      "metadata": {
        "colab": {
          "base_uri": "https://localhost:8080/"
        },
        "id": "7c0W9xj8qJEk",
        "outputId": "9643dd64-998d-4997-d7dd-02bf1fa5252c"
      },
      "execution_count": 10,
      "outputs": [
        {
          "output_type": "stream",
          "name": "stdout",
          "text": [
            "Temperature: 27°C\n"
          ]
        }
      ]
    },
    {
      "cell_type": "code",
      "source": [
        "import time\n",
        "from selenium import webdriver\n",
        "from selenium.webdriver.chrome.service import Service\n",
        "from selenium.webdriver.chrome.options import Options\n",
        "from selenium.webdriver.common.by import By\n",
        "from selenium.webdriver.support.ui import WebDriverWait\n",
        "from selenium.webdriver.support import expected_conditions as EC\n",
        "from IPython.display import Image, display  # Import to display images inline\n",
        "\n",
        "# Set up Chrome options for headless mode (no GUI)\n",
        "chrome_options = Options()\n",
        "chrome_options.add_argument(\"--headless\")  # Run Chrome in headless mode (without UI)\n",
        "chrome_options.add_argument(\"--no-sandbox\")  # Disable sandboxing (required in Colab)\n",
        "chrome_options.add_argument(\"--disable-dev-shm-usage\")  # Disable /dev/shm usage (avoids crash)\n",
        "\n",
        "# Path to ChromeDriver (adjust this based on your system)\n",
        "chrome_driver_path = '/content/chromedriver-linux64/chromedriver'  # Adjust as necessary\n",
        "\n",
        "# Set up the Service object for ChromeDriver\n",
        "service = Service(chrome_driver_path)\n",
        "\n",
        "# Initialize the WebDriver with the Service object and options\n",
        "driver = webdriver.Chrome(service=service, options=chrome_options)\n",
        "\n",
        "# Ensure the file path is correct for the local HTML file (using file:// format)\n",
        "file_path = 'file:///content/final2.html'  # Update with the actual path\n",
        "\n",
        "try:\n",
        "    print(\"Navigating to the HTML file...\")\n",
        "    driver.get(file_path)\n",
        "\n",
        "    # Wait for the elements to be visible (adjust time as needed)\n",
        "    wait = WebDriverWait(driver, 20)  # Wait up to 20 seconds\n",
        "\n",
        "    print(\"Waiting for input elements to load...\")\n",
        "    a1_input = wait.until(EC.presence_of_element_located((By.ID, \"a1\")))\n",
        "    b1_input = wait.until(EC.presence_of_element_located((By.ID, \"b1\")))\n",
        "    c1_input = wait.until(EC.presence_of_element_located((By.ID, \"c1\")))\n",
        "\n",
        "    a2_input = wait.until(EC.presence_of_element_located((By.ID, \"a2\")))\n",
        "    b2_input = wait.until(EC.presence_of_element_located((By.ID, \"b2\")))\n",
        "    c2_input = wait.until(EC.presence_of_element_located((By.ID, \"c2\")))\n",
        "\n",
        "    a3_input = wait.until(EC.presence_of_element_located((By.ID, \"a3\")))\n",
        "    b3_input = wait.until(EC.presence_of_element_located((By.ID, \"b3\")))\n",
        "    c3_input = wait.until(EC.presence_of_element_located((By.ID, \"c3\")))\n",
        "\n",
        "    plot_button = wait.until(EC.presence_of_element_located((By.XPATH, \"//button[@onclick='plotGraph()']\")))\n",
        "\n",
        "    print(\"Filling input fields with values...\")\n",
        "    # Send test data (you can modify these values to your own)\n",
        "    a1_input.clear()  # Clear the input before sending new values\n",
        "    a1_input.send_keys(\"11\")\n",
        "    b1_input.clear()\n",
        "    b1_input.send_keys(\"2\")\n",
        "    c1_input.clear()\n",
        "    c1_input.send_keys(\"3\")\n",
        "    a2_input.clear()\n",
        "    a2_input.send_keys(\"2\")\n",
        "    b2_input.clear()\n",
        "    b2_input.send_keys(\"-1\")\n",
        "    c2_input.clear()\n",
        "    c2_input.send_keys(\"1\")\n",
        "    a3_input.clear()\n",
        "    a3_input.send_keys(\"-1\")\n",
        "    b3_input.clear()\n",
        "    b3_input.send_keys(\"3\")\n",
        "    c3_input.clear()\n",
        "    c3_input.send_keys(\"-2\")\n",
        "\n",
        "    # Double-check values are entered correctly\n",
        "    print(\"Input values:\")\n",
        "    print(\"a1:\", a1_input.get_attribute('value'))\n",
        "    print(\"b1:\", b1_input.get_attribute('value'))\n",
        "    print(\"c1:\", c1_input.get_attribute('value'))\n",
        "    print(\"a2:\", a2_input.get_attribute('value'))\n",
        "    print(\"b2:\", b2_input.get_attribute('value'))\n",
        "    print(\"c2:\", c2_input.get_attribute('value'))\n",
        "    print(\"a3:\", a3_input.get_attribute('value'))\n",
        "    print(\"b3:\", b3_input.get_attribute('value'))\n",
        "    print(\"c3:\", c3_input.get_attribute('value'))\n",
        "\n",
        "    print(\"Clicking the plot button...\")\n",
        "    # Trigger the plot graph action\n",
        "    plot_button.click()\n",
        "\n",
        "    # Wait for the chart to render (adjust time as needed)\n",
        "    time.sleep(3)\n",
        "\n",
        "    # Scroll to the chart to ensure it is in the viewport\n",
        "    print(\"Scrolling to the chart...\")\n",
        "    chart_element = driver.find_element(By.ID, \"chart\")\n",
        "    driver.execute_script(\"arguments[0].scrollIntoView();\", chart_element)\n",
        "\n",
        "    # Wait a bit more to ensure the chart is visible\n",
        "    time.sleep(2)\n",
        "\n",
        "    # Take a screenshot of the entire page, including the chart\n",
        "    screenshot_path = \"/content/graph_screenshot.png\"\n",
        "    driver.save_screenshot(screenshot_path)\n",
        "    print(f\"Screenshot saved at: {screenshot_path}\")\n",
        "\n",
        "    # Display the screenshot inline\n",
        "    display(Image(filename=screenshot_path))  # Show the image in the output\n",
        "\n",
        "    print(\"Test completed successfully.\")\n",
        "\n",
        "except Exception as e:\n",
        "    print(\"Error encountered:\")\n",
        "    import traceback\n",
        "    traceback.print_exc()\n",
        "\n",
        "finally:\n",
        "    print(\"Closing the driver...\")\n",
        "    driver.quit()"
      ],
      "metadata": {
        "colab": {
          "base_uri": "https://localhost:8080/",
          "height": 770
        },
        "id": "aJ7NTq7uqMrR",
        "outputId": "4c0efce8-75a6-43f6-ed5a-ef6ca18df7e8"
      },
      "execution_count": 11,
      "outputs": [
        {
          "output_type": "stream",
          "name": "stdout",
          "text": [
            "Navigating to the HTML file...\n",
            "Waiting for input elements to load...\n",
            "Filling input fields with values...\n",
            "Input values:\n",
            "a1: 11\n",
            "b1: 2\n",
            "c1: 3\n",
            "a2: 2\n",
            "b2: -1\n",
            "c2: 1\n",
            "a3: -1\n",
            "b3: 3\n",
            "c3: -2\n",
            "Clicking the plot button...\n",
            "Scrolling to the chart...\n",
            "Screenshot saved at: /content/graph_screenshot.png\n"
          ]
        },
        {
          "output_type": "display_data",
          "data": {
            "image/png": "[encoded data removed]",
            "text/plain": [
              "<IPython.core.display.Image object>"
            ]
          },
          "metadata": {}
        },
        {
          "output_type": "stream",
          "name": "stdout",
          "text": [
            "Test completed successfully.\n",
            "Closing the driver...\n"
          ]
        }
      ]
    }
  ]
}